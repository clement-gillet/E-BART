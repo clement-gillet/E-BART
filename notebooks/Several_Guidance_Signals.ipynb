{
 "cells": [
  {
   "cell_type": "markdown",
   "id": "3451e0bc",
   "metadata": {},
   "source": [
    "# Several Guidance Signals"
   ]
  },
  {
   "cell_type": "markdown",
   "id": "fac1f341",
   "metadata": {},
   "source": [
    "Again, this notebook was applied on train, validation and test split. \n",
    "Change (to val or test) according to your needs."
   ]
  },
  {
   "cell_type": "code",
   "execution_count": 2,
   "id": "bee2377b",
   "metadata": {},
   "outputs": [],
   "source": [
    "import pandas as pd   \n",
    "import json"
   ]
  },
  {
   "cell_type": "markdown",
   "id": "3a34a98b",
   "metadata": {},
   "source": [
    "# 1. Events (GS1)"
   ]
  },
  {
   "cell_type": "code",
   "execution_count": null,
   "id": "58192165",
   "metadata": {},
   "outputs": [],
   "source": [
    "file_path= \"/Users/clementgillet/Desktop/4SUBMISSION/files/train_events.json\"\n",
    "events = pd.read_json(path_or_buf=file_path, lines=True)\n",
    "events"
   ]
  },
  {
   "cell_type": "code",
   "execution_count": null,
   "id": "270cf593",
   "metadata": {},
   "outputs": [],
   "source": [
    "# We put all events in a list of lists while filtering out NaN and None results\n",
    "# We also have to merge all 1215 columns into 1 \n",
    "# We then assign this list to a column of the v2 of NarraSum called \"event_mentions\"\n",
    "lsls = []\n",
    "for i in range(109767):\n",
    "    ls = []\n",
    "    if i%1000==0:\n",
    "        print(i)\n",
    "    for j in range(1215):\n",
    "        if events[j][i] != None:\n",
    "            ls.append(events[j][i])\n",
    "    lsls.append(ls)\n",
    "    \n",
    "#filtering NaN-entries\n",
    "\n",
    "for i in range(109767):\n",
    "    lsls[i] = [item for item in lsls[i] if not(pd.isnull(item)) == True]\n",
    "\n",
    "# Here an example of the 1st input document's event mentions   \n",
    "\n",
    "lsls[0]"
   ]
  },
  {
   "cell_type": "code",
   "execution_count": null,
   "id": "b6d073da",
   "metadata": {
    "scrolled": true
   },
   "outputs": [],
   "source": [
    "events = pd.DataFrame()\n",
    "events[\"guidance\"] = lsls\n",
    "events.guidance"
   ]
  },
  {
   "cell_type": "code",
   "execution_count": null,
   "id": "f2c22d2a",
   "metadata": {},
   "outputs": [],
   "source": [
    "# Prune out numerical features to keep just trigger word + event type --> GS1_base\n",
    "for i in range(109767):\n",
    "    for j in range(len(events.guidance[i])):\n",
    "        del events.guidance[i][j]['sent_id']\n",
    "        del events.guidance[i][j]['offset']\n",
    "        del events.guidance[i][j]['id']\n",
    "        del events.guidance[i][j]['type_id']\n",
    "        "
   ]
  },
  {
   "cell_type": "code",
   "execution_count": null,
   "id": "d5ea8755",
   "metadata": {},
   "outputs": [],
   "source": [
    "with open('/Users/clementgillet/Desktop/GS1_base.json', 'w') as f:\n",
    "    f.write(events.to_json(orient='records', lines=True))"
   ]
  },
  {
   "cell_type": "markdown",
   "id": "ed3bc75a",
   "metadata": {},
   "source": [
    "# 2. COREFERENCE, TEMPORAL, CAUSAL, SUBEVENT (GS2)"
   ]
  },
  {
   "cell_type": "code",
   "execution_count": null,
   "id": "5a655d86",
   "metadata": {},
   "outputs": [],
   "source": [
    "ls = []\n",
    "for i in range(1,3):\n",
    "    print(i)\n",
    "    file_path= f\"/Users/clementgillet/Desktop/train/{i}.jsonl\"\n",
    "    raw_rel = pd.read_json(path_or_buf=file_path, lines=True)\n",
    "    ls.append(raw_rel)"
   ]
  },
  {
   "cell_type": "code",
   "execution_count": null,
   "id": "c5db1860",
   "metadata": {},
   "outputs": [],
   "source": [
    "ls = []\n",
    "for i in range(3,5):\n",
    "    print(i)\n",
    "    file_path= f\"/Users/clementgillet/Desktop/train/{i}.jsonl\"\n",
    "    raw_rel = pd.read_json(path_or_buf=file_path, lines=True)\n",
    "    ls.append(raw_rel)"
   ]
  },
  {
   "cell_type": "code",
   "execution_count": null,
   "id": "58fd3559",
   "metadata": {},
   "outputs": [],
   "source": [
    "ls = []\n",
    "for i in range(5,7):\n",
    "    print(i)\n",
    "    file_path= f\"/Users/clementgillet/Desktop/train/{i}.jsonl\"\n",
    "    raw_rel = pd.read_json(path_or_buf=file_path, lines=True)\n",
    "    ls.append(raw_rel)"
   ]
  },
  {
   "cell_type": "code",
   "execution_count": null,
   "id": "823852c8",
   "metadata": {},
   "outputs": [],
   "source": [
    "ls = []\n",
    "for i in range(7,9):\n",
    "    print(i)\n",
    "    file_path= f\"/Users/clementgillet/Desktop/train/{i}.jsonl\"\n",
    "    raw_rel = pd.read_json(path_or_buf=file_path, lines=True)\n",
    "    ls.append(raw_rel)"
   ]
  },
  {
   "cell_type": "code",
   "execution_count": null,
   "id": "937f07e6",
   "metadata": {},
   "outputs": [],
   "source": [
    "ls = []\n",
    "for i in range(9,11):\n",
    "    print(i)\n",
    "    file_path= f\"/Users/clementgillet/Desktop/train/{i}.jsonl\"\n",
    "    raw_rel = pd.read_json(path_or_buf=file_path, lines=True)\n",
    "    ls.append(raw_rel)"
   ]
  },
  {
   "cell_type": "code",
   "execution_count": null,
   "id": "57453b2e",
   "metadata": {},
   "outputs": [],
   "source": [
    "ls = []\n",
    "for i in range(11,13):\n",
    "    print(i)\n",
    "    file_path= f\"/Users/clementgillet/Desktop/train/{i}.jsonl\"\n",
    "    raw_rel = pd.read_json(path_or_buf=file_path, lines=True)\n",
    "    ls.append(raw_rel)"
   ]
  },
  {
   "cell_type": "code",
   "execution_count": null,
   "id": "f294d03b",
   "metadata": {},
   "outputs": [],
   "source": [
    "ls = []\n",
    "for i in range(13,15):\n",
    "    print(i)\n",
    "    file_path= f\"/Users/clementgillet/Desktop/train/{i}.jsonl\"\n",
    "    raw_rel = pd.read_json(path_or_buf=file_path, lines=True)\n",
    "    ls.append(raw_rel)"
   ]
  },
  {
   "cell_type": "code",
   "execution_count": null,
   "id": "e6b330e0",
   "metadata": {},
   "outputs": [],
   "source": [
    "raw_relj = pd.concat(ls, ignore_index = True)"
   ]
  },
  {
   "cell_type": "code",
   "execution_count": null,
   "id": "07d29e1e",
   "metadata": {},
   "outputs": [],
   "source": [
    "raw_relj"
   ]
  },
  {
   "cell_type": "code",
   "execution_count": null,
   "id": "c72b58ac",
   "metadata": {},
   "outputs": [],
   "source": [
    "# clean all single coreferences\n",
    "for i in range(1000):\n",
    "    for ls in raw_relj.coreference:\n",
    "        for elem in ls:\n",
    "            if len(elem)==1:\n",
    "                ls.remove(elem)\n",
    "# there are coreference arrays that are up to 12 event_mentions long"
   ]
  },
  {
   "cell_type": "code",
   "execution_count": null,
   "id": "a1d7a611",
   "metadata": {},
   "outputs": [],
   "source": [
    "file_path1= \"/Users/clementgillet/Desktop/4SUBMISSION/Guidance Signal/Train Split/GS1.json\"\n",
    "event_mentions_pre = pd.read_json(path_or_buf=file_path1, lines=True)"
   ]
  },
  {
   "cell_type": "code",
   "execution_count": null,
   "id": "192763e6",
   "metadata": {},
   "outputs": [],
   "source": [
    "event_mentions_pre"
   ]
  },
  {
   "cell_type": "code",
   "execution_count": null,
   "id": "5a2c4d2f",
   "metadata": {},
   "outputs": [],
   "source": [
    "EM = event_mentions_pre.loc[96032:109767].copy()\n",
    "EM"
   ]
  },
  {
   "cell_type": "code",
   "execution_count": null,
   "id": "a2f6badb",
   "metadata": {},
   "outputs": [],
   "source": [
    "index = dropp.index[dropp.id =='73420b51d3f742c4d6f293deefae7bf0']\n",
    "index\n",
    "#dropp.document[20543]"
   ]
  },
  {
   "cell_type": "code",
   "execution_count": null,
   "id": "447cd02f",
   "metadata": {},
   "outputs": [],
   "source": [
    "# take original NarraSum file and check what lines were discarded during \n",
    "# ERE-inference and drop them from event_mentions\n",
    "\n",
    "file_path1= \"/Users/clementgillet/Desktop/Master_Hub/datasets/NarraSum/train.json\"\n",
    "dropp = pd.read_json(path_or_buf=file_path1, lines=True)"
   ]
  },
  {
   "cell_type": "code",
   "execution_count": null,
   "id": "0d546bee",
   "metadata": {},
   "outputs": [],
   "source": [
    "dropp.document[109763]"
   ]
  },
  {
   "cell_type": "code",
   "execution_count": null,
   "id": "f4a7983e",
   "metadata": {},
   "outputs": [],
   "source": []
  },
  {
   "cell_type": "code",
   "execution_count": null,
   "id": "ca5d8cf8",
   "metadata": {},
   "outputs": [],
   "source": [
    "dd = dropp.loc[96032:109767]\n",
    "\n",
    "ls = list(set(dd.id) - set(raw_relj.id))\n",
    "print(len(ls))\n",
    "for idx, ide in enumerate(dropp.id):\n",
    "    if ide in ls:\n",
    "        EM.drop(idx, inplace=True)"
   ]
  },
  {
   "cell_type": "code",
   "execution_count": null,
   "id": "9fbf9034",
   "metadata": {},
   "outputs": [],
   "source": [
    "event_mentions = EM\n",
    "event_mentions"
   ]
  },
  {
   "cell_type": "code",
   "execution_count": null,
   "id": "8e0c1836",
   "metadata": {},
   "outputs": [],
   "source": [
    "# 2 ids that are missing in RAW_GUIDANCE cause no event_mentions : ['01863e31835c64933f2ba529de61c0db', '55fd7c68cd5dd8ed47c8bd7e900e3c2f'] \n",
    "# indices : [5519, 1281]\n",
    "# so we delete these 2 rows from the event_mentions dataframe so it fits to the dataframe above\n",
    "#event_mentions.drop(5519, inplace=True)\n",
    "#event_mentions.drop(1281, inplace=True)"
   ]
  },
  {
   "cell_type": "code",
   "execution_count": null,
   "id": "05ec96e4",
   "metadata": {},
   "outputs": [],
   "source": [
    "# COREFERENCE : replace all alphanumeric IDs with trigger word (+ event-mentions ?)\n",
    "for ls1, ls2 in zip(raw_relj.coreference, event_mentions.guidance) :\n",
    "    for elem in ls1:\n",
    "        for idx, ID in enumerate(elem):\n",
    "            for event in ls2:\n",
    "                if ID == event['id']:\n",
    "                    elem[idx] =  event['trigger-word']           "
   ]
  },
  {
   "cell_type": "code",
   "execution_count": null,
   "id": "959b5998",
   "metadata": {},
   "outputs": [],
   "source": [
    "# CAUSAL : replace all alphanumeric IDs with trigger word (+ event-mentions ?) !!!CAUSAL + PRECONDITION!!!\n",
    "for enum, (ls1, ls2) in enumerate(zip(raw_relj.causal_relations, event_mentions.guidance)) :\n",
    "    for cause_type in ls1:\n",
    "        for pair in raw_relj.causal_relations[enum][cause_type]:\n",
    "            for idx, ID in enumerate(pair):\n",
    "                for event in ls2:\n",
    "                    if ID == event['id']:\n",
    "                        pair[idx] =  event['trigger-word'] "
   ]
  },
  {
   "cell_type": "code",
   "execution_count": null,
   "id": "e3506bae",
   "metadata": {},
   "outputs": [],
   "source": [
    "# snippet that sigularizes temporal relations --> this will spare a lot of time in proocessing\n",
    "# for first id, remove all next pairs with this id (being first) and do a list of this \n",
    "# id with all others id that come aftter in time"
   ]
  },
  {
   "cell_type": "code",
   "execution_count": null,
   "id": "246a6ae1",
   "metadata": {
    "scrolled": true
   },
   "outputs": [],
   "source": [
    "# TEMPORAL : replace all alphanumeric IDs with trigger word (+ event-mentions ?) !!!6 diff types of temp rel!!!\n",
    "for enum, (ls1, ls2) in enumerate(zip(raw_relj.temporal_relations, event_mentions.guidance)) :\n",
    "    print(enum)\n",
    "    for temp_type in ls1:\n",
    "        for pair in raw_relj.temporal_relations[enum][temp_type]:\n",
    "            for idx, ID in enumerate(pair):\n",
    "                for event in ls2:\n",
    "                    if ID == event['id']:\n",
    "                        pair[idx] =  event['trigger-word'] "
   ]
  },
  {
   "cell_type": "code",
   "execution_count": null,
   "id": "56e4e313",
   "metadata": {},
   "outputs": [],
   "source": [
    "# SUBEVENT : replace all alphanumeric IDs with trigger word (+ event-mentions ?)\n",
    "for ls1, ls2 in zip(raw_relj.subevent_relations, event_mentions.guidance) :\n",
    "    for elem in ls1:\n",
    "        for idx, ID in enumerate(elem):\n",
    "            for event in ls2:\n",
    "                if ID == event['id']:\n",
    "                    elem[idx] =  event['trigger-word']  "
   ]
  },
  {
   "cell_type": "code",
   "execution_count": null,
   "id": "da1d40da",
   "metadata": {},
   "outputs": [],
   "source": [
    "raw_relj"
   ]
  },
  {
   "cell_type": "code",
   "execution_count": null,
   "id": "78bf7cd3",
   "metadata": {},
   "outputs": [],
   "source": [
    "with open('/Users/clementgillet/Desktop/GS2_train_intermediary_7.json', 'w') as f:\n",
    "    f.write(raw_relj.to_json(orient='records', lines=True))"
   ]
  },
  {
   "cell_type": "markdown",
   "id": "32a63fed",
   "metadata": {},
   "source": [
    "# Textual Transformation + Merging Temporal Arrays"
   ]
  },
  {
   "cell_type": "code",
   "execution_count": null,
   "id": "8a55a754",
   "metadata": {},
   "outputs": [],
   "source": [
    "# Re-arrange ERE-flagging with more linguistic cues ?\n",
    "\n",
    "# Check if for one ERE-type, chronological order is applied\n",
    "# what is the difference really between \n",
    "# rajouter des sentence position numbering in guidance ? tthis trigger word in sentence 4\n",
    "# shorten temporal annotation\n",
    "\n",
    "# Idées ??\n",
    "# \"trigger-word A (in sentence 3) and B (in sentence 10) refer to the same event\" / A, B, C , ...\n",
    "# \"A causes B\" and \" A is a precondition to B\"\n",
    "# \"A\" overlaps with \"B\", \"A begins on B\"\n",
    "# A happpens during that B is ongoing\n",
    "\n"
   ]
  },
  {
   "cell_type": "code",
   "execution_count": null,
   "id": "0cecc641",
   "metadata": {},
   "outputs": [],
   "source": [
    "ls = []\n",
    "for i in range(6,8):\n",
    "    print(i)\n",
    "    file_path= f\"/Users/clementgillet/Desktop/GS2_train_intermediary_{i}.json\"\n",
    "    raw_rel = pd.read_json(path_or_buf=file_path, lines=True)\n",
    "    ls.append(raw_rel)"
   ]
  },
  {
   "cell_type": "code",
   "execution_count": null,
   "id": "1316c34c",
   "metadata": {},
   "outputs": [],
   "source": [
    "file_path= \"/Users/clementgillet/Desktop/4SUBMISSION/Guidance Signal/Val Split /GS2_val_intermediary.json\"\n",
    "raw_rel = pd.read_json(path_or_buf=file_path, lines=True)"
   ]
  },
  {
   "cell_type": "code",
   "execution_count": null,
   "id": "b8abb29e",
   "metadata": {},
   "outputs": [],
   "source": [
    "raw_rel = pd.concat(ls, ignore_index = True)"
   ]
  },
  {
   "cell_type": "code",
   "execution_count": null,
   "id": "3adfdd8c",
   "metadata": {},
   "outputs": [],
   "source": [
    "raw_relj = raw_rel\n",
    "raw_relj"
   ]
  },
  {
   "cell_type": "code",
   "execution_count": null,
   "id": "2c73534a",
   "metadata": {},
   "outputs": [],
   "source": [
    "# coreference (textual transformation)\n",
    "\n",
    "for ls in raw_relj.coreference :\n",
    "    for index, elem in enumerate(ls):\n",
    "        string = elem[0] + \" and \"\n",
    "        for idx in range(1, len(elem)):\n",
    "            if idx==len(elem)-1:\n",
    "                string += elem[idx] + \" REFER to the same event \"\n",
    "                break\n",
    "            string += elem[idx] + \" and \"\n",
    "        ls[index]= string"
   ]
  },
  {
   "cell_type": "code",
   "execution_count": null,
   "id": "3f51e612",
   "metadata": {},
   "outputs": [],
   "source": [
    "# causal (textual transformation)\n",
    "\n",
    "for enum, ls in enumerate(raw_relj.causal_relations):\n",
    "    for cause_type in ls:\n",
    "        for idx, pair in enumerate(raw_relj.causal_relations[enum][cause_type]):\n",
    "            string = pair[0] + \" \" + cause_type + \"S \" +  pair[1]\n",
    "            ls[cause_type][idx] = string\n",
    "                 "
   ]
  },
  {
   "cell_type": "code",
   "execution_count": null,
   "id": "7108e9a0",
   "metadata": {},
   "outputs": [],
   "source": [
    "# temporal (textual transformation + HUGE MERGING OPERATION)\n",
    "metameta= []\n",
    "for enum, ls in enumerate(raw_relj.temporal_relations):\n",
    "    if enum%100==0:\n",
    "        print(enum)\n",
    "    listmeta = []\n",
    "    for temp_type in ls:\n",
    "        if len(raw_relj.temporal_relations[enum][temp_type])>0:\n",
    "            if temp_type == \"BEFORE\":\n",
    "                centralEvent = raw_relj.temporal_relations[enum][temp_type][0][0]\n",
    "                mark = 0\n",
    "                LIST = []\n",
    "                for pair in raw_relj.temporal_relations[enum][temp_type]:\n",
    "                    if pair[0] == centralEvent:\n",
    "                        if mark == 1:\n",
    "                            string += \", \" + pair[1]\n",
    "                        else:\n",
    "                            string = centralEvent + f\" {temp_type} \" + pair[1]\n",
    "                            mark = 1\n",
    "                    else:\n",
    "                        LIST.append(string)\n",
    "                        centralEvent = pair[0]\n",
    "                        mark = 0\n",
    "            else:\n",
    "                for pair in raw_relj.temporal_relations[enum][temp_type]:\n",
    "                    string = pair[0] + f\" {temp_type} \" + pair[1]\n",
    "                    LIST.append(string)\n",
    "            listmeta.append(LIST)\n",
    "            if enum%100==0:\n",
    "                print(listmeta)\n",
    "    metameta.append(listmeta)"
   ]
  },
  {
   "cell_type": "code",
   "execution_count": null,
   "id": "628c9881",
   "metadata": {},
   "outputs": [],
   "source": [
    "# subevent (textual transformation)\n",
    "\n",
    "for enum, ls in enumerate(raw_relj.subevent_relations):\n",
    "    for idx, pair in enumerate(ls):\n",
    "            string = pair[1] + \" HAPPENS DURING \" +  pair[0]\n",
    "            ls[idx] = string"
   ]
  },
  {
   "cell_type": "code",
   "execution_count": null,
   "id": "f8da584a",
   "metadata": {},
   "outputs": [],
   "source": [
    "raw_relj[\"temporal_relations\"]= metameta"
   ]
  },
  {
   "cell_type": "code",
   "execution_count": null,
   "id": "b5d94e90",
   "metadata": {},
   "outputs": [],
   "source": [
    "# keep only central event of all BEFORE arrays to finally obtain a chained chronology.\n",
    "for idx in range(len(raw_relj.temporal_relations)):\n",
    "    if len(raw_relj.temporal_relations[idx])>0:\n",
    "        for i, elem in enumerate(raw_relj.temporal_relations[idx][0]):\n",
    "            raw_relj.temporal_relations[idx][0][i] = raw_relj.temporal_relations[idx][0][i].split()[0]"
   ]
  },
  {
   "cell_type": "code",
   "execution_count": null,
   "id": "6b74665d",
   "metadata": {},
   "outputs": [],
   "source": [
    "# add linguistic\n",
    "for idx in range(len(raw_relj.temporal_relations)):\n",
    "    if len(raw_relj.temporal_relations[idx])>0:\n",
    "            raw_relj.temporal_relations[idx][0].insert(0, \"The chronology of events is the following : \")\n",
    "            "
   ]
  },
  {
   "cell_type": "code",
   "execution_count": null,
   "id": "3017aa02",
   "metadata": {},
   "outputs": [],
   "source": [
    "for idx in range(len(raw_relj.causal_relations)):\n",
    "    raw_relj.causal_relations[idx] = raw_relj.causal_relations[idx]['CAUSE'] + raw_relj.causal_relations[idx]['PRECONDITION']"
   ]
  },
  {
   "cell_type": "code",
   "execution_count": null,
   "id": "37f3905c",
   "metadata": {},
   "outputs": [],
   "source": [
    "# On # rows :\n",
    "# only 529 rows that contain subevent (804)(438) test: (102) val: (144)\n",
    "# only 12065 row that contain coreference (18796)(10087) test: (2352) val: (2386)\n",
    "# 30672 rows have temporal information (47050)(25447) test: (6076) val: (5917)\n",
    "# 21354 rows have causal information (32885)(17852) test: (4095) val: (4091)\n",
    "\n",
    "count = 0 \n",
    "for elem in raw_relj.subevent_relations:\n",
    "    if len(elem)>0:\n",
    "        count += 1\n",
    "        \n",
    "print(count)"
   ]
  },
  {
   "cell_type": "code",
   "execution_count": null,
   "id": "8d419504",
   "metadata": {},
   "outputs": [],
   "source": [
    "raw_relj[\"guidance\"] = raw_relj.temporal_relations + raw_relj.coreference + raw_relj.causal_relations + raw_relj.subevent_relations"
   ]
  },
  {
   "cell_type": "code",
   "execution_count": null,
   "id": "516a65a6",
   "metadata": {},
   "outputs": [],
   "source": [
    "raw_relj.drop(\"coreference\", axis=1, inplace=True)"
   ]
  },
  {
   "cell_type": "code",
   "execution_count": null,
   "id": "58166c6b",
   "metadata": {},
   "outputs": [],
   "source": [
    "raw_relj.drop(\"temporal_relations\", axis=1, inplace=True)"
   ]
  },
  {
   "cell_type": "code",
   "execution_count": null,
   "id": "bbc6a995",
   "metadata": {},
   "outputs": [],
   "source": [
    "raw_relj.drop(\"causal_relations\", axis=1, inplace=True)"
   ]
  },
  {
   "cell_type": "code",
   "execution_count": null,
   "id": "214be191",
   "metadata": {},
   "outputs": [],
   "source": [
    "raw_relj.drop(\"subevent_relations\", axis=1, inplace=True)"
   ]
  },
  {
   "cell_type": "code",
   "execution_count": null,
   "id": "bb18b5ec",
   "metadata": {},
   "outputs": [],
   "source": [
    "raw_relj.guidance[33]"
   ]
  },
  {
   "cell_type": "code",
   "execution_count": null,
   "id": "ebf63fe1",
   "metadata": {},
   "outputs": [],
   "source": [
    "with open('/Users/clementgillet/Desktop/GS2_final_val.json', 'w') as f:\n",
    "    f.write(raw_relj.to_json(orient='records', lines=True))"
   ]
  },
  {
   "cell_type": "markdown",
   "id": "d3cf8d90",
   "metadata": {},
   "source": [
    "------------------------------------------------------------------------------------------------------------------"
   ]
  },
  {
   "cell_type": "code",
   "execution_count": null,
   "id": "a847017a",
   "metadata": {},
   "outputs": [],
   "source": [
    "file_path= \"/Users/clementgillet/Desktop/4SUBMISSION/Guidance Signal/Test Split/GS2_final_test.json\"\n",
    "guidance = pd.read_json(path_or_buf=file_path, lines=True)"
   ]
  },
  {
   "cell_type": "code",
   "execution_count": null,
   "id": "4d6abd9b",
   "metadata": {},
   "outputs": [],
   "source": [
    "guidance"
   ]
  },
  {
   "cell_type": "code",
   "execution_count": null,
   "id": "3870a79f",
   "metadata": {},
   "outputs": [],
   "source": [
    "file_path= \"/Users/clementgillet/Desktop/Master_Hub/datasets/NarraSum/train.json\"\n",
    "initial = pd.read_json(path_or_buf=file_path, lines=True)\n",
    "initial1 = pd.read_json(path_or_buf=file_path, lines=True)"
   ]
  },
  {
   "cell_type": "code",
   "execution_count": null,
   "id": "55eb42cf",
   "metadata": {},
   "outputs": [],
   "source": [
    "initial"
   ]
  },
  {
   "cell_type": "code",
   "execution_count": null,
   "id": "253a5bf1",
   "metadata": {},
   "outputs": [],
   "source": [
    "ls = list(set(initial.id) - set(guidance.id))\n",
    "print(len(ls))\n",
    "for idx, ide in enumerate(initial1.id):\n",
    "    if ide in ls:\n",
    "        initial.drop(idx, inplace=True)"
   ]
  },
  {
   "cell_type": "code",
   "execution_count": null,
   "id": "9046002a",
   "metadata": {},
   "outputs": [],
   "source": [
    "# now the original NarraSum is truncated by 6212 examples (ca. 6% of dataset)"
   ]
  },
  {
   "cell_type": "code",
   "execution_count": null,
   "id": "4c1ed6d4",
   "metadata": {},
   "outputs": [],
   "source": [
    "# what other filter should we apply ? \n",
    "#Given that subevent information is scarce, if we filter all entries without subevent relation, \n",
    "# we lose too much of the dataset\n",
    "# 309 elements are empty, remove them \n",
    "\n",
    "count = 0 \n",
    "for idx, elem in enumerate(guidance.guidance):\n",
    "    if len(elem)==0:\n",
    "        count += 1\n",
    "        guidance.drop(idx, inplace=True)\n",
    "count\n",
    "\n",
    "# no empty guidance anymore. That is our baseline !! \n",
    "# For every association of events, we are going to retrain BART original on a different subset ??? \n",
    "        "
   ]
  },
  {
   "cell_type": "code",
   "execution_count": null,
   "id": "29e0addf",
   "metadata": {},
   "outputs": [],
   "source": [
    "with open('/Users/clementgillet/Desktop/GS2_final_val.json', 'w') as f:\n",
    "    f.write(guidance.to_json(orient='records', lines=True))"
   ]
  },
  {
   "cell_type": "code",
   "execution_count": null,
   "id": "cf7ac2f7",
   "metadata": {},
   "outputs": [],
   "source": [
    "with open('/Users/clementgillet/Desktop/val.json', 'w') as f:\n",
    "    f.write(initial.to_json(orient='records', lines=True))"
   ]
  },
  {
   "cell_type": "code",
   "execution_count": null,
   "id": "093f8e02",
   "metadata": {},
   "outputs": [],
   "source": [
    "file_path= \"/Users/clementgillet/Desktop/4SUBMISSION/Guidance_Signal/GS1_guid/test.json\"\n",
    "initial = pd.read_json(path_or_buf=file_path, lines=True)"
   ]
  },
  {
   "cell_type": "code",
   "execution_count": null,
   "id": "20730ed9",
   "metadata": {},
   "outputs": [],
   "source": [
    "file_path1= \"/Users/clementgillet/Desktop/Master_Hub/datasets/NarraSum/validation.json\"\n",
    "realinit = pd.read_json(path_or_buf=file_path1, lines=True)"
   ]
  },
  {
   "cell_type": "code",
   "execution_count": null,
   "id": "25de39ad",
   "metadata": {},
   "outputs": [],
   "source": [
    "file_path= \"/Users/clementgillet/Desktop/INITIAL_filtered/GS2/train.json\"\n",
    "initial1 = pd.read_json(path_or_buf=file_path, lines=True)"
   ]
  },
  {
   "cell_type": "code",
   "execution_count": null,
   "id": "21f1269b",
   "metadata": {},
   "outputs": [],
   "source": [
    "ls = list(set(initial1.id) - set(initial.id))\n",
    "print(len(ls))\n",
    "for idx, ide in enumerate(initial1.id):\n",
    "    if ide in ls:\n",
    "        initial2.drop(idx, inplace=True)"
   ]
  },
  {
   "cell_type": "code",
   "execution_count": null,
   "id": "95f8d7cd",
   "metadata": {},
   "outputs": [],
   "source": [
    "initial[\"id\"] = \"\"\n",
    "initial=initial.rename(columns = {'guidance':'document'})\n",
    "initial[\"summary\"] = \"\"\n",
    "initial.summary[0]"
   ]
  },
  {
   "cell_type": "code",
   "execution_count": null,
   "id": "babdfe1b",
   "metadata": {},
   "outputs": [],
   "source": [
    "initial = initial[['id', 'document', 'summary']]"
   ]
  },
  {
   "cell_type": "code",
   "execution_count": null,
   "id": "5b3ebfbb",
   "metadata": {},
   "outputs": [],
   "source": [
    "initial.document"
   ]
  },
  {
   "cell_type": "code",
   "execution_count": null,
   "id": "c4ff7976",
   "metadata": {},
   "outputs": [],
   "source": [
    "for idx in range(len(initial.document)):\n",
    "    initial.document[idx] = ' '.join(str(x) for x in initial.document[idx])"
   ]
  },
  {
   "cell_type": "code",
   "execution_count": null,
   "id": "01fd412d",
   "metadata": {},
   "outputs": [],
   "source": [
    "for idx in range(len(initial.document)):\n",
    "    initial.document[idx] = initial.document[idx].replace(\"[\", \"\")\n",
    "    initial.document[idx] = initial.guidance[idx].replace(\"]\", \"\")\n",
    "    initial.document[idx] = initial.guidance[idx].replace(\"'\", \"\")"
   ]
  },
  {
   "cell_type": "code",
   "execution_count": null,
   "id": "34df0b41",
   "metadata": {},
   "outputs": [],
   "source": [
    "initial.document[503]"
   ]
  },
  {
   "cell_type": "code",
   "execution_count": null,
   "id": "c51b7ca8",
   "metadata": {},
   "outputs": [],
   "source": [
    "with open('/Users/clementgillet/Desktop/test.json', 'w') as f:\n",
    "    f.write(initial.to_json(orient='records', lines=True))"
   ]
  },
  {
   "cell_type": "markdown",
   "id": "81f15e59",
   "metadata": {},
   "source": [
    "# 3.  COREFERENCE, TEMPORAL, CAUSAL (GS3)\n",
    "\n",
    "Ablate subevent from initial signal"
   ]
  },
  {
   "cell_type": "code",
   "execution_count": 411,
   "id": "2ddc16c3",
   "metadata": {},
   "outputs": [],
   "source": [
    "file_path= \"/Users/clementgillet/Desktop/4SUBMISSION/Guidance_Signal/Test Split/GS3.json\"\n",
    "GS = pd.read_json(path_or_buf=file_path, lines=True)"
   ]
  },
  {
   "cell_type": "code",
   "execution_count": 412,
   "id": "38ec9d40",
   "metadata": {},
   "outputs": [],
   "source": [
    "file_path1= \"/Users/clementgillet/Desktop/Master_Hub/datasets/NarraSum/test.json\"\n",
    "DS = pd.read_json(path_or_buf=file_path1, lines=True)\n",
    "DS1 = pd.read_json(path_or_buf=file_path1, lines=True)"
   ]
  },
  {
   "cell_type": "code",
   "execution_count": null,
   "id": "b63616ff",
   "metadata": {},
   "outputs": [],
   "source": []
  },
  {
   "cell_type": "code",
   "execution_count": 353,
   "id": "0c575c51",
   "metadata": {},
   "outputs": [],
   "source": [
    "for idx in range(len(GS2_1.guidance)):\n",
    "    if len(GS2_1.guidance[idx])==0:\n",
    "        GS2_1.drop(idx, inplace=True)\n",
    "        idx -= 1"
   ]
  },
  {
   "cell_type": "code",
   "execution_count": 232,
   "id": "1513412b",
   "metadata": {},
   "outputs": [],
   "source": [
    "GS2_1.reset_index(inplace=True)"
   ]
  },
  {
   "cell_type": "code",
   "execution_count": 238,
   "id": "036bc727",
   "metadata": {},
   "outputs": [
    {
     "data": {
      "text/html": [
       "<div>\n",
       "<style scoped>\n",
       "    .dataframe tbody tr th:only-of-type {\n",
       "        vertical-align: middle;\n",
       "    }\n",
       "\n",
       "    .dataframe tbody tr th {\n",
       "        vertical-align: top;\n",
       "    }\n",
       "\n",
       "    .dataframe thead th {\n",
       "        text-align: right;\n",
       "    }\n",
       "</style>\n",
       "<table border=\"1\" class=\"dataframe\">\n",
       "  <thead>\n",
       "    <tr style=\"text-align: right;\">\n",
       "      <th></th>\n",
       "      <th>level_0</th>\n",
       "      <th>index</th>\n",
       "      <th>id</th>\n",
       "      <th>guidance</th>\n",
       "    </tr>\n",
       "  </thead>\n",
       "  <tbody>\n",
       "    <tr>\n",
       "      <th>6</th>\n",
       "      <td>6</td>\n",
       "      <td>6</td>\n",
       "      <td>97050b204c9aee0835d73b60ee0253f9</td>\n",
       "      <td>[fly and leave REFER to the same event , stole...</td>\n",
       "    </tr>\n",
       "    <tr>\n",
       "      <th>9</th>\n",
       "      <td>9</td>\n",
       "      <td>9</td>\n",
       "      <td>5a2ccadd45fd23461b6355201c2eae5e</td>\n",
       "      <td>[Fariba and killings REFER to the same event ]</td>\n",
       "    </tr>\n",
       "    <tr>\n",
       "      <th>10</th>\n",
       "      <td>10</td>\n",
       "      <td>10</td>\n",
       "      <td>6b447508813508a907c1c612a3d3af5f</td>\n",
       "      <td>[exchanging and shots and shooting and exchang...</td>\n",
       "    </tr>\n",
       "    <tr>\n",
       "      <th>16</th>\n",
       "      <td>16</td>\n",
       "      <td>16</td>\n",
       "      <td>6db180303c303e6f3f4cdd096191e922</td>\n",
       "      <td>[killed and killed REFER to the same event ]</td>\n",
       "    </tr>\n",
       "    <tr>\n",
       "      <th>17</th>\n",
       "      <td>17</td>\n",
       "      <td>17</td>\n",
       "      <td>3e539c180ffba280b3b9e0f4b854bfe9</td>\n",
       "      <td>[hitting and hit REFER to the same event ]</td>\n",
       "    </tr>\n",
       "    <tr>\n",
       "      <th>...</th>\n",
       "      <td>...</td>\n",
       "      <td>...</td>\n",
       "      <td>...</td>\n",
       "      <td>...</td>\n",
       "    </tr>\n",
       "    <tr>\n",
       "      <th>30671</th>\n",
       "      <td>30671</td>\n",
       "      <td>30771</td>\n",
       "      <td>862a4574f0e2f34a58c18f1dbac133a6</td>\n",
       "      <td>[trial and trial REFER to the same event ]</td>\n",
       "    </tr>\n",
       "    <tr>\n",
       "      <th>30673</th>\n",
       "      <td>30673</td>\n",
       "      <td>30773</td>\n",
       "      <td>70c24614aef784bcc9154b0eabb34fd8</td>\n",
       "      <td>[leading and investigation REFER to the same e...</td>\n",
       "    </tr>\n",
       "    <tr>\n",
       "      <th>30674</th>\n",
       "      <td>30674</td>\n",
       "      <td>30774</td>\n",
       "      <td>53f1848824e82fcc874a36b3e5397799</td>\n",
       "      <td>[record and record REFER to the same event ]</td>\n",
       "    </tr>\n",
       "    <tr>\n",
       "      <th>30675</th>\n",
       "      <td>30675</td>\n",
       "      <td>30775</td>\n",
       "      <td>885ea3d38a5152956ade8acc912895ba</td>\n",
       "      <td>[use and declines REFER to the same event , vo...</td>\n",
       "    </tr>\n",
       "    <tr>\n",
       "      <th>30679</th>\n",
       "      <td>30679</td>\n",
       "      <td>30779</td>\n",
       "      <td>bf025af53cb59bcaebe4d941fdb16891</td>\n",
       "      <td>[party and party REFER to the same event ]</td>\n",
       "    </tr>\n",
       "  </tbody>\n",
       "</table>\n",
       "<p>12098 rows × 4 columns</p>\n",
       "</div>"
      ],
      "text/plain": [
       "       level_0  index                                id  \\\n",
       "6            6      6  97050b204c9aee0835d73b60ee0253f9   \n",
       "9            9      9  5a2ccadd45fd23461b6355201c2eae5e   \n",
       "10          10     10  6b447508813508a907c1c612a3d3af5f   \n",
       "16          16     16  6db180303c303e6f3f4cdd096191e922   \n",
       "17          17     17  3e539c180ffba280b3b9e0f4b854bfe9   \n",
       "...        ...    ...                               ...   \n",
       "30671    30671  30771  862a4574f0e2f34a58c18f1dbac133a6   \n",
       "30673    30673  30773  70c24614aef784bcc9154b0eabb34fd8   \n",
       "30674    30674  30774  53f1848824e82fcc874a36b3e5397799   \n",
       "30675    30675  30775  885ea3d38a5152956ade8acc912895ba   \n",
       "30679    30679  30779  bf025af53cb59bcaebe4d941fdb16891   \n",
       "\n",
       "                                                guidance  \n",
       "6      [fly and leave REFER to the same event , stole...  \n",
       "9         [Fariba and killings REFER to the same event ]  \n",
       "10     [exchanging and shots and shooting and exchang...  \n",
       "16          [killed and killed REFER to the same event ]  \n",
       "17            [hitting and hit REFER to the same event ]  \n",
       "...                                                  ...  \n",
       "30671         [trial and trial REFER to the same event ]  \n",
       "30673  [leading and investigation REFER to the same e...  \n",
       "30674       [record and record REFER to the same event ]  \n",
       "30675  [use and declines REFER to the same event , vo...  \n",
       "30679         [party and party REFER to the same event ]  \n",
       "\n",
       "[12098 rows x 4 columns]"
      ]
     },
     "execution_count": 238,
     "metadata": {},
     "output_type": "execute_result"
    }
   ],
   "source": [
    "GS2_1"
   ]
  },
  {
   "cell_type": "code",
   "execution_count": 352,
   "id": "d7c746b7",
   "metadata": {},
   "outputs": [],
   "source": [
    "for i in range(len(GS2_1.guidance)):\n",
    "    GS2_1.guidance[i] = [elem for elem in GS2_1.guidance[i] if \"HAPPENS DURING\" not in elem]\n",
    "    GS2_1.guidance[i] = [elem for elem in GS2_1.guidance[i] if \"CAUSES\" not in elem]\n",
    "    GS2_1.guidance[i] = [elem for elem in GS2_1.guidance[i] if \"PRECONDITIONS\" not in elem]\n",
    "    if len(GS2_1.guidance[i]) > 0:\n",
    "        del GS2_1.guidance[i][0]\n",
    "        "
   ]
  },
  {
   "cell_type": "code",
   "execution_count": 354,
   "id": "3c39d77a",
   "metadata": {},
   "outputs": [
    {
     "data": {
      "text/html": [
       "<div>\n",
       "<style scoped>\n",
       "    .dataframe tbody tr th:only-of-type {\n",
       "        vertical-align: middle;\n",
       "    }\n",
       "\n",
       "    .dataframe tbody tr th {\n",
       "        vertical-align: top;\n",
       "    }\n",
       "\n",
       "    .dataframe thead th {\n",
       "        text-align: right;\n",
       "    }\n",
       "</style>\n",
       "<table border=\"1\" class=\"dataframe\">\n",
       "  <thead>\n",
       "    <tr style=\"text-align: right;\">\n",
       "      <th></th>\n",
       "      <th>id</th>\n",
       "      <th>guidance</th>\n",
       "    </tr>\n",
       "  </thead>\n",
       "  <tbody>\n",
       "    <tr>\n",
       "      <th>4</th>\n",
       "      <td>92dd585fbe6fb2da29f98eee29d2db9d</td>\n",
       "      <td>[battle and battle REFER to the same event ]</td>\n",
       "    </tr>\n",
       "    <tr>\n",
       "      <th>6</th>\n",
       "      <td>71a05de42d306fe6fdc1deb6ef9f4b69</td>\n",
       "      <td>[running and ran REFER to the same event , wed...</td>\n",
       "    </tr>\n",
       "    <tr>\n",
       "      <th>10</th>\n",
       "      <td>38d8be082aa2e21e891cd8bebc4fd917</td>\n",
       "      <td>[reception and reception REFER to the same eve...</td>\n",
       "    </tr>\n",
       "    <tr>\n",
       "      <th>13</th>\n",
       "      <td>5facb7742f1b4d03f95c39980a6d42e2</td>\n",
       "      <td>[save and save REFER to the same event , disas...</td>\n",
       "    </tr>\n",
       "    <tr>\n",
       "      <th>14</th>\n",
       "      <td>ef2039381659b5bf041641dad3ab1373</td>\n",
       "      <td>[wedding and wedding REFER to the same event ,...</td>\n",
       "    </tr>\n",
       "    <tr>\n",
       "      <th>...</th>\n",
       "      <td>...</td>\n",
       "      <td>...</td>\n",
       "    </tr>\n",
       "    <tr>\n",
       "      <th>6066</th>\n",
       "      <td>94b840f69d37c417ac4fe1a5731777ee</td>\n",
       "      <td>[killed and killed and killed REFER to the sam...</td>\n",
       "    </tr>\n",
       "    <tr>\n",
       "      <th>6069</th>\n",
       "      <td>3c81c5ed665a5837a16fde26da77dd98</td>\n",
       "      <td>[marriage and marriage REFER to the same event...</td>\n",
       "    </tr>\n",
       "    <tr>\n",
       "      <th>6073</th>\n",
       "      <td>a457183e2a877fe487161130739ea2be</td>\n",
       "      <td>[interrogation and interrogation and interroga...</td>\n",
       "    </tr>\n",
       "    <tr>\n",
       "      <th>6076</th>\n",
       "      <td>d1d63bd8d81e73fb0870183827637dc2</td>\n",
       "      <td>[survey and survey and survey REFER to the sam...</td>\n",
       "    </tr>\n",
       "    <tr>\n",
       "      <th>6081</th>\n",
       "      <td>18ce218b68017bb0d616270e8d134ba0</td>\n",
       "      <td>[dancing and dancing REFER to the same event ,...</td>\n",
       "    </tr>\n",
       "  </tbody>\n",
       "</table>\n",
       "<p>2356 rows × 2 columns</p>\n",
       "</div>"
      ],
      "text/plain": [
       "                                    id  \\\n",
       "4     92dd585fbe6fb2da29f98eee29d2db9d   \n",
       "6     71a05de42d306fe6fdc1deb6ef9f4b69   \n",
       "10    38d8be082aa2e21e891cd8bebc4fd917   \n",
       "13    5facb7742f1b4d03f95c39980a6d42e2   \n",
       "14    ef2039381659b5bf041641dad3ab1373   \n",
       "...                                ...   \n",
       "6066  94b840f69d37c417ac4fe1a5731777ee   \n",
       "6069  3c81c5ed665a5837a16fde26da77dd98   \n",
       "6073  a457183e2a877fe487161130739ea2be   \n",
       "6076  d1d63bd8d81e73fb0870183827637dc2   \n",
       "6081  18ce218b68017bb0d616270e8d134ba0   \n",
       "\n",
       "                                               guidance  \n",
       "4          [battle and battle REFER to the same event ]  \n",
       "6     [running and ran REFER to the same event , wed...  \n",
       "10    [reception and reception REFER to the same eve...  \n",
       "13    [save and save REFER to the same event , disas...  \n",
       "14    [wedding and wedding REFER to the same event ,...  \n",
       "...                                                 ...  \n",
       "6066  [killed and killed and killed REFER to the sam...  \n",
       "6069  [marriage and marriage REFER to the same event...  \n",
       "6073  [interrogation and interrogation and interroga...  \n",
       "6076  [survey and survey and survey REFER to the sam...  \n",
       "6081  [dancing and dancing REFER to the same event ,...  \n",
       "\n",
       "[2356 rows x 2 columns]"
      ]
     },
     "execution_count": 354,
     "metadata": {},
     "output_type": "execute_result"
    }
   ],
   "source": [
    "initial = GS2_1\n",
    "initial"
   ]
  },
  {
   "cell_type": "code",
   "execution_count": 355,
   "id": "4057dee1",
   "metadata": {},
   "outputs": [],
   "source": [
    "initial.reset_index(inplace=True)"
   ]
  },
  {
   "cell_type": "code",
   "execution_count": 356,
   "id": "b1ccff61",
   "metadata": {},
   "outputs": [],
   "source": [
    "initial=initial.rename(columns = {'guidance':'document'})\n",
    "initial[\"summary\"] = \"\""
   ]
  },
  {
   "cell_type": "code",
   "execution_count": 357,
   "id": "875748ce",
   "metadata": {},
   "outputs": [],
   "source": [
    "initial = initial[['id', 'document', 'summary']]"
   ]
  },
  {
   "cell_type": "code",
   "execution_count": 358,
   "id": "744eeef6",
   "metadata": {},
   "outputs": [
    {
     "data": {
      "text/html": [
       "<div>\n",
       "<style scoped>\n",
       "    .dataframe tbody tr th:only-of-type {\n",
       "        vertical-align: middle;\n",
       "    }\n",
       "\n",
       "    .dataframe tbody tr th {\n",
       "        vertical-align: top;\n",
       "    }\n",
       "\n",
       "    .dataframe thead th {\n",
       "        text-align: right;\n",
       "    }\n",
       "</style>\n",
       "<table border=\"1\" class=\"dataframe\">\n",
       "  <thead>\n",
       "    <tr style=\"text-align: right;\">\n",
       "      <th></th>\n",
       "      <th>id</th>\n",
       "      <th>document</th>\n",
       "      <th>summary</th>\n",
       "    </tr>\n",
       "  </thead>\n",
       "  <tbody>\n",
       "    <tr>\n",
       "      <th>0</th>\n",
       "      <td>92dd585fbe6fb2da29f98eee29d2db9d</td>\n",
       "      <td>[battle and battle REFER to the same event ]</td>\n",
       "      <td></td>\n",
       "    </tr>\n",
       "    <tr>\n",
       "      <th>1</th>\n",
       "      <td>71a05de42d306fe6fdc1deb6ef9f4b69</td>\n",
       "      <td>[running and ran REFER to the same event , wed...</td>\n",
       "      <td></td>\n",
       "    </tr>\n",
       "    <tr>\n",
       "      <th>2</th>\n",
       "      <td>38d8be082aa2e21e891cd8bebc4fd917</td>\n",
       "      <td>[reception and reception REFER to the same eve...</td>\n",
       "      <td></td>\n",
       "    </tr>\n",
       "    <tr>\n",
       "      <th>3</th>\n",
       "      <td>5facb7742f1b4d03f95c39980a6d42e2</td>\n",
       "      <td>[save and save REFER to the same event , disas...</td>\n",
       "      <td></td>\n",
       "    </tr>\n",
       "    <tr>\n",
       "      <th>4</th>\n",
       "      <td>ef2039381659b5bf041641dad3ab1373</td>\n",
       "      <td>[wedding and wedding REFER to the same event ,...</td>\n",
       "      <td></td>\n",
       "    </tr>\n",
       "    <tr>\n",
       "      <th>...</th>\n",
       "      <td>...</td>\n",
       "      <td>...</td>\n",
       "      <td>...</td>\n",
       "    </tr>\n",
       "    <tr>\n",
       "      <th>2351</th>\n",
       "      <td>94b840f69d37c417ac4fe1a5731777ee</td>\n",
       "      <td>[killed and killed and killed REFER to the sam...</td>\n",
       "      <td></td>\n",
       "    </tr>\n",
       "    <tr>\n",
       "      <th>2352</th>\n",
       "      <td>3c81c5ed665a5837a16fde26da77dd98</td>\n",
       "      <td>[marriage and marriage REFER to the same event...</td>\n",
       "      <td></td>\n",
       "    </tr>\n",
       "    <tr>\n",
       "      <th>2353</th>\n",
       "      <td>a457183e2a877fe487161130739ea2be</td>\n",
       "      <td>[interrogation and interrogation and interroga...</td>\n",
       "      <td></td>\n",
       "    </tr>\n",
       "    <tr>\n",
       "      <th>2354</th>\n",
       "      <td>d1d63bd8d81e73fb0870183827637dc2</td>\n",
       "      <td>[survey and survey and survey REFER to the sam...</td>\n",
       "      <td></td>\n",
       "    </tr>\n",
       "    <tr>\n",
       "      <th>2355</th>\n",
       "      <td>18ce218b68017bb0d616270e8d134ba0</td>\n",
       "      <td>[dancing and dancing REFER to the same event ,...</td>\n",
       "      <td></td>\n",
       "    </tr>\n",
       "  </tbody>\n",
       "</table>\n",
       "<p>2356 rows × 3 columns</p>\n",
       "</div>"
      ],
      "text/plain": [
       "                                    id  \\\n",
       "0     92dd585fbe6fb2da29f98eee29d2db9d   \n",
       "1     71a05de42d306fe6fdc1deb6ef9f4b69   \n",
       "2     38d8be082aa2e21e891cd8bebc4fd917   \n",
       "3     5facb7742f1b4d03f95c39980a6d42e2   \n",
       "4     ef2039381659b5bf041641dad3ab1373   \n",
       "...                                ...   \n",
       "2351  94b840f69d37c417ac4fe1a5731777ee   \n",
       "2352  3c81c5ed665a5837a16fde26da77dd98   \n",
       "2353  a457183e2a877fe487161130739ea2be   \n",
       "2354  d1d63bd8d81e73fb0870183827637dc2   \n",
       "2355  18ce218b68017bb0d616270e8d134ba0   \n",
       "\n",
       "                                               document summary  \n",
       "0          [battle and battle REFER to the same event ]          \n",
       "1     [running and ran REFER to the same event , wed...          \n",
       "2     [reception and reception REFER to the same eve...          \n",
       "3     [save and save REFER to the same event , disas...          \n",
       "4     [wedding and wedding REFER to the same event ,...          \n",
       "...                                                 ...     ...  \n",
       "2351  [killed and killed and killed REFER to the sam...          \n",
       "2352  [marriage and marriage REFER to the same event...          \n",
       "2353  [interrogation and interrogation and interroga...          \n",
       "2354  [survey and survey and survey REFER to the sam...          \n",
       "2355  [dancing and dancing REFER to the same event ,...          \n",
       "\n",
       "[2356 rows x 3 columns]"
      ]
     },
     "execution_count": 358,
     "metadata": {},
     "output_type": "execute_result"
    }
   ],
   "source": [
    "initial"
   ]
  },
  {
   "cell_type": "code",
   "execution_count": 359,
   "id": "f5572e4b",
   "metadata": {},
   "outputs": [],
   "source": [
    "for idx in range(len(initial.document)):\n",
    "    initial.document[idx] = ''.join(str(x) for x in initial.document[idx])"
   ]
  },
  {
   "cell_type": "code",
   "execution_count": 360,
   "id": "2627a11d",
   "metadata": {},
   "outputs": [],
   "source": [
    "for idx in range(len(initial.document)):\n",
    "    initial.document[idx] = initial.document[idx].replace(\"[\", \"\")\n",
    "    initial.document[idx] = initial.document[idx].replace(\"]\", \"\")\n",
    "    initial.document[idx] = initial.document[idx].replace(\"'\", \"\")"
   ]
  },
  {
   "cell_type": "code",
   "execution_count": 361,
   "id": "22e4fb4b",
   "metadata": {},
   "outputs": [
    {
     "data": {
      "text/html": [
       "<div>\n",
       "<style scoped>\n",
       "    .dataframe tbody tr th:only-of-type {\n",
       "        vertical-align: middle;\n",
       "    }\n",
       "\n",
       "    .dataframe tbody tr th {\n",
       "        vertical-align: top;\n",
       "    }\n",
       "\n",
       "    .dataframe thead th {\n",
       "        text-align: right;\n",
       "    }\n",
       "</style>\n",
       "<table border=\"1\" class=\"dataframe\">\n",
       "  <thead>\n",
       "    <tr style=\"text-align: right;\">\n",
       "      <th></th>\n",
       "      <th>id</th>\n",
       "      <th>document</th>\n",
       "      <th>summary</th>\n",
       "    </tr>\n",
       "  </thead>\n",
       "  <tbody>\n",
       "    <tr>\n",
       "      <th>0</th>\n",
       "      <td>92dd585fbe6fb2da29f98eee29d2db9d</td>\n",
       "      <td>battle and battle REFER to the same event</td>\n",
       "      <td></td>\n",
       "    </tr>\n",
       "    <tr>\n",
       "      <th>1</th>\n",
       "      <td>71a05de42d306fe6fdc1deb6ef9f4b69</td>\n",
       "      <td>running and ran REFER to the same event weddin...</td>\n",
       "      <td></td>\n",
       "    </tr>\n",
       "    <tr>\n",
       "      <th>2</th>\n",
       "      <td>38d8be082aa2e21e891cd8bebc4fd917</td>\n",
       "      <td>reception and reception REFER to the same event</td>\n",
       "      <td></td>\n",
       "    </tr>\n",
       "    <tr>\n",
       "      <th>3</th>\n",
       "      <td>5facb7742f1b4d03f95c39980a6d42e2</td>\n",
       "      <td>save and save REFER to the same event disaster...</td>\n",
       "      <td></td>\n",
       "    </tr>\n",
       "    <tr>\n",
       "      <th>4</th>\n",
       "      <td>ef2039381659b5bf041641dad3ab1373</td>\n",
       "      <td>wedding and wedding REFER to the same event dr...</td>\n",
       "      <td></td>\n",
       "    </tr>\n",
       "    <tr>\n",
       "      <th>...</th>\n",
       "      <td>...</td>\n",
       "      <td>...</td>\n",
       "      <td>...</td>\n",
       "    </tr>\n",
       "    <tr>\n",
       "      <th>2351</th>\n",
       "      <td>94b840f69d37c417ac4fe1a5731777ee</td>\n",
       "      <td>killed and killed and killed REFER to the same...</td>\n",
       "      <td></td>\n",
       "    </tr>\n",
       "    <tr>\n",
       "      <th>2352</th>\n",
       "      <td>3c81c5ed665a5837a16fde26da77dd98</td>\n",
       "      <td>marriage and marriage REFER to the same event ...</td>\n",
       "      <td></td>\n",
       "    </tr>\n",
       "    <tr>\n",
       "      <th>2353</th>\n",
       "      <td>a457183e2a877fe487161130739ea2be</td>\n",
       "      <td>interrogation and interrogation and interrogat...</td>\n",
       "      <td></td>\n",
       "    </tr>\n",
       "    <tr>\n",
       "      <th>2354</th>\n",
       "      <td>d1d63bd8d81e73fb0870183827637dc2</td>\n",
       "      <td>survey and survey and survey REFER to the same...</td>\n",
       "      <td></td>\n",
       "    </tr>\n",
       "    <tr>\n",
       "      <th>2355</th>\n",
       "      <td>18ce218b68017bb0d616270e8d134ba0</td>\n",
       "      <td>dancing and dancing REFER to the same event sa...</td>\n",
       "      <td></td>\n",
       "    </tr>\n",
       "  </tbody>\n",
       "</table>\n",
       "<p>2356 rows × 3 columns</p>\n",
       "</div>"
      ],
      "text/plain": [
       "                                    id  \\\n",
       "0     92dd585fbe6fb2da29f98eee29d2db9d   \n",
       "1     71a05de42d306fe6fdc1deb6ef9f4b69   \n",
       "2     38d8be082aa2e21e891cd8bebc4fd917   \n",
       "3     5facb7742f1b4d03f95c39980a6d42e2   \n",
       "4     ef2039381659b5bf041641dad3ab1373   \n",
       "...                                ...   \n",
       "2351  94b840f69d37c417ac4fe1a5731777ee   \n",
       "2352  3c81c5ed665a5837a16fde26da77dd98   \n",
       "2353  a457183e2a877fe487161130739ea2be   \n",
       "2354  d1d63bd8d81e73fb0870183827637dc2   \n",
       "2355  18ce218b68017bb0d616270e8d134ba0   \n",
       "\n",
       "                                               document summary  \n",
       "0            battle and battle REFER to the same event           \n",
       "1     running and ran REFER to the same event weddin...          \n",
       "2      reception and reception REFER to the same event           \n",
       "3     save and save REFER to the same event disaster...          \n",
       "4     wedding and wedding REFER to the same event dr...          \n",
       "...                                                 ...     ...  \n",
       "2351  killed and killed and killed REFER to the same...          \n",
       "2352  marriage and marriage REFER to the same event ...          \n",
       "2353  interrogation and interrogation and interrogat...          \n",
       "2354  survey and survey and survey REFER to the same...          \n",
       "2355  dancing and dancing REFER to the same event sa...          \n",
       "\n",
       "[2356 rows x 3 columns]"
      ]
     },
     "execution_count": 361,
     "metadata": {},
     "output_type": "execute_result"
    }
   ],
   "source": [
    "initial"
   ]
  },
  {
   "cell_type": "code",
   "execution_count": 284,
   "id": "2ca4c6ed",
   "metadata": {},
   "outputs": [],
   "source": [
    "ls1 = [initial]"
   ]
  },
  {
   "cell_type": "code",
   "execution_count": 334,
   "id": "fbbdda03",
   "metadata": {},
   "outputs": [],
   "source": [
    "ls1.append(initial)"
   ]
  },
  {
   "cell_type": "code",
   "execution_count": 335,
   "id": "80573a31",
   "metadata": {},
   "outputs": [
    {
     "data": {
      "text/plain": [
       "[                                     id  \\\n",
       " 0      97050b204c9aee0835d73b60ee0253f9   \n",
       " 1      5a2ccadd45fd23461b6355201c2eae5e   \n",
       " 2      6b447508813508a907c1c612a3d3af5f   \n",
       " 3      6db180303c303e6f3f4cdd096191e922   \n",
       " 4      3e539c180ffba280b3b9e0f4b854bfe9   \n",
       " ...                                 ...   \n",
       " 12093  862a4574f0e2f34a58c18f1dbac133a6   \n",
       " 12094  70c24614aef784bcc9154b0eabb34fd8   \n",
       " 12095  53f1848824e82fcc874a36b3e5397799   \n",
       " 12096  885ea3d38a5152956ade8acc912895ba   \n",
       " 12097  bf025af53cb59bcaebe4d941fdb16891   \n",
       " \n",
       "                                                 document summary  \n",
       " 0      fly and leave REFER to the same event  stole a...          \n",
       " 1           Fariba and killings REFER to the same event           \n",
       " 2      exchanging and shots and shooting and exchange...          \n",
       " 3             killed and killed REFER to the same event           \n",
       " 4               hitting and hit REFER to the same event           \n",
       " ...                                                  ...     ...  \n",
       " 12093           trial and trial REFER to the same event           \n",
       " 12094  leading and investigation REFER to the same ev...          \n",
       " 12095         record and record REFER to the same event           \n",
       " 12096  use and declines REFER to the same event  vote...          \n",
       " 12097           party and party REFER to the same event           \n",
       " \n",
       " [12098 rows x 3 columns],\n",
       "        index                                id  \\\n",
       " 0          0  dbd0e9e120e70e99bd7c307e362af0ac   \n",
       " 1          1  6e2d0f07fc969d2fca8abaea5483019a   \n",
       " 2          2  f059ed3694e4f559743defbe9ca24b70   \n",
       " 3          3  441aca9ccf51d573465130b8a01c66ad   \n",
       " 4          4  ddce4fd3e81507a9c641a760d4ae831e   \n",
       " ...      ...                               ...   \n",
       " 18835  18835  fc703c542f4e485c0d0756019d9f9dd8   \n",
       " 18836  18836  8050038e610dbff6b502962f13b5c122   \n",
       " 18837  18837  2657e94bfb42e9d70525ec5f5e375d1b   \n",
       " 18838  18838  7c426054bcf275c006d847a10c04627d   \n",
       " 18839  18839  3ab5ca424fae2d9c1b3cf634594266f9   \n",
       " \n",
       "                                                 document summary  \n",
       " 0               leave and leave REFER to the same event           \n",
       " 1      Talking and Talking REFER to the same event  T...          \n",
       " 2      married and marrying REFER to the same event  ...          \n",
       " 3      party and party and party and party and party ...          \n",
       " 4               replace and get REFER to the same event           \n",
       " ...                                                  ...     ...  \n",
       " 18835       report and reported REFER to the same event           \n",
       " 18836            fire and shoot REFER to the same event           \n",
       " 18837  hit and hit REFER to the same event  found and...          \n",
       " 18838  switches and change REFER to the same event  p...          \n",
       " 18839  party and school REFER to the same event  marr...          \n",
       " \n",
       " [18840 rows x 4 columns],\n",
       "                                      id  \\\n",
       " 0      f9be693d95984c9c11564dedf0061c7b   \n",
       " 1      0c3c90ce512993fe6d10369142cffa0e   \n",
       " 2      d4bc8c2a69342d7abeccede190be1544   \n",
       " 3      2cd33cb7a2fe01e7b7948f2f23106186   \n",
       " 4      e640dc3ec13802af34cb74a61a1529b6   \n",
       " ...                                 ...   \n",
       " 10114  cbb3a45256bd45d2e4fb75af243e3dd0   \n",
       " 10115  b965f8db57c7b48b9b428e1de9bb2640   \n",
       " 10116  5c9c20d365d129e2f43ced0245fbf298   \n",
       " 10117  c0481fde39300813627ef17f2ef25d09   \n",
       " 10118  a39004317f443812a774bb49c9c695ae   \n",
       " \n",
       "                                                 document summary  \n",
       " 0               crash and crash REFER to the same event           \n",
       " 1      death and death REFER to the same event broke ...          \n",
       " 2      meeting and meeting REFER to the same event dr...          \n",
       " 3      death and death REFER to the same event commit...          \n",
       " 4           meeting and meeting REFER to the same event           \n",
       " ...                                                  ...     ...  \n",
       " 10114  turned and turning and turning REFER to the sa...          \n",
       " 10115  wedding and wedding and wedding REFER to the s...          \n",
       " 10116  kill and kill and killed REFER to the same event           \n",
       " 10117  vote and vote and vote and vote REFER to the s...          \n",
       " 10118      killings and killing REFER to the same event           \n",
       " \n",
       " [10119 rows x 3 columns]]"
      ]
     },
     "execution_count": 335,
     "metadata": {},
     "output_type": "execute_result"
    }
   ],
   "source": [
    "ls1"
   ]
  },
  {
   "cell_type": "code",
   "execution_count": 362,
   "id": "f228ee1b",
   "metadata": {},
   "outputs": [
    {
     "data": {
      "text/html": [
       "<div>\n",
       "<style scoped>\n",
       "    .dataframe tbody tr th:only-of-type {\n",
       "        vertical-align: middle;\n",
       "    }\n",
       "\n",
       "    .dataframe tbody tr th {\n",
       "        vertical-align: top;\n",
       "    }\n",
       "\n",
       "    .dataframe thead th {\n",
       "        text-align: right;\n",
       "    }\n",
       "</style>\n",
       "<table border=\"1\" class=\"dataframe\">\n",
       "  <thead>\n",
       "    <tr style=\"text-align: right;\">\n",
       "      <th></th>\n",
       "      <th>id</th>\n",
       "      <th>document</th>\n",
       "      <th>summary</th>\n",
       "    </tr>\n",
       "  </thead>\n",
       "  <tbody>\n",
       "    <tr>\n",
       "      <th>0</th>\n",
       "      <td>92dd585fbe6fb2da29f98eee29d2db9d</td>\n",
       "      <td>battle and battle REFER to the same event</td>\n",
       "      <td></td>\n",
       "    </tr>\n",
       "    <tr>\n",
       "      <th>1</th>\n",
       "      <td>71a05de42d306fe6fdc1deb6ef9f4b69</td>\n",
       "      <td>running and ran REFER to the same event weddin...</td>\n",
       "      <td></td>\n",
       "    </tr>\n",
       "    <tr>\n",
       "      <th>2</th>\n",
       "      <td>38d8be082aa2e21e891cd8bebc4fd917</td>\n",
       "      <td>reception and reception REFER to the same event</td>\n",
       "      <td></td>\n",
       "    </tr>\n",
       "    <tr>\n",
       "      <th>3</th>\n",
       "      <td>5facb7742f1b4d03f95c39980a6d42e2</td>\n",
       "      <td>save and save REFER to the same event disaster...</td>\n",
       "      <td></td>\n",
       "    </tr>\n",
       "    <tr>\n",
       "      <th>4</th>\n",
       "      <td>ef2039381659b5bf041641dad3ab1373</td>\n",
       "      <td>wedding and wedding REFER to the same event dr...</td>\n",
       "      <td></td>\n",
       "    </tr>\n",
       "    <tr>\n",
       "      <th>...</th>\n",
       "      <td>...</td>\n",
       "      <td>...</td>\n",
       "      <td>...</td>\n",
       "    </tr>\n",
       "    <tr>\n",
       "      <th>2351</th>\n",
       "      <td>94b840f69d37c417ac4fe1a5731777ee</td>\n",
       "      <td>killed and killed and killed REFER to the same...</td>\n",
       "      <td></td>\n",
       "    </tr>\n",
       "    <tr>\n",
       "      <th>2352</th>\n",
       "      <td>3c81c5ed665a5837a16fde26da77dd98</td>\n",
       "      <td>marriage and marriage REFER to the same event ...</td>\n",
       "      <td></td>\n",
       "    </tr>\n",
       "    <tr>\n",
       "      <th>2353</th>\n",
       "      <td>a457183e2a877fe487161130739ea2be</td>\n",
       "      <td>interrogation and interrogation and interrogat...</td>\n",
       "      <td></td>\n",
       "    </tr>\n",
       "    <tr>\n",
       "      <th>2354</th>\n",
       "      <td>d1d63bd8d81e73fb0870183827637dc2</td>\n",
       "      <td>survey and survey and survey REFER to the same...</td>\n",
       "      <td></td>\n",
       "    </tr>\n",
       "    <tr>\n",
       "      <th>2355</th>\n",
       "      <td>18ce218b68017bb0d616270e8d134ba0</td>\n",
       "      <td>dancing and dancing REFER to the same event sa...</td>\n",
       "      <td></td>\n",
       "    </tr>\n",
       "  </tbody>\n",
       "</table>\n",
       "<p>2356 rows × 3 columns</p>\n",
       "</div>"
      ],
      "text/plain": [
       "                                    id  \\\n",
       "0     92dd585fbe6fb2da29f98eee29d2db9d   \n",
       "1     71a05de42d306fe6fdc1deb6ef9f4b69   \n",
       "2     38d8be082aa2e21e891cd8bebc4fd917   \n",
       "3     5facb7742f1b4d03f95c39980a6d42e2   \n",
       "4     ef2039381659b5bf041641dad3ab1373   \n",
       "...                                ...   \n",
       "2351  94b840f69d37c417ac4fe1a5731777ee   \n",
       "2352  3c81c5ed665a5837a16fde26da77dd98   \n",
       "2353  a457183e2a877fe487161130739ea2be   \n",
       "2354  d1d63bd8d81e73fb0870183827637dc2   \n",
       "2355  18ce218b68017bb0d616270e8d134ba0   \n",
       "\n",
       "                                               document summary  \n",
       "0            battle and battle REFER to the same event           \n",
       "1     running and ran REFER to the same event weddin...          \n",
       "2      reception and reception REFER to the same event           \n",
       "3     save and save REFER to the same event disaster...          \n",
       "4     wedding and wedding REFER to the same event dr...          \n",
       "...                                                 ...     ...  \n",
       "2351  killed and killed and killed REFER to the same...          \n",
       "2352  marriage and marriage REFER to the same event ...          \n",
       "2353  interrogation and interrogation and interrogat...          \n",
       "2354  survey and survey and survey REFER to the same...          \n",
       "2355  dancing and dancing REFER to the same event sa...          \n",
       "\n",
       "[2356 rows x 3 columns]"
      ]
     },
     "execution_count": 362,
     "metadata": {},
     "output_type": "execute_result"
    }
   ],
   "source": [
    "initial"
   ]
  },
  {
   "cell_type": "code",
   "execution_count": 413,
   "id": "62e46edb",
   "metadata": {},
   "outputs": [
    {
     "name": "stdout",
     "output_type": "stream",
     "text": [
      "38\n"
     ]
    }
   ],
   "source": [
    "ls = list(set(DS.id) - set(GS.id))\n",
    "print(len(ls))\n",
    "for idx, ide in enumerate(DS.id):\n",
    "    if ide in ls:\n",
    "        DS1.drop(idx, inplace=True)"
   ]
  },
  {
   "cell_type": "code",
   "execution_count": 409,
   "id": "31cff5ff",
   "metadata": {},
   "outputs": [
    {
     "data": {
      "text/html": [
       "<div>\n",
       "<style scoped>\n",
       "    .dataframe tbody tr th:only-of-type {\n",
       "        vertical-align: middle;\n",
       "    }\n",
       "\n",
       "    .dataframe tbody tr th {\n",
       "        vertical-align: top;\n",
       "    }\n",
       "\n",
       "    .dataframe thead th {\n",
       "        text-align: right;\n",
       "    }\n",
       "</style>\n",
       "<table border=\"1\" class=\"dataframe\">\n",
       "  <thead>\n",
       "    <tr style=\"text-align: right;\">\n",
       "      <th></th>\n",
       "      <th>id</th>\n",
       "      <th>document</th>\n",
       "      <th>summary</th>\n",
       "    </tr>\n",
       "  </thead>\n",
       "  <tbody>\n",
       "    <tr>\n",
       "      <th>0</th>\n",
       "      <td>195e3a541827dc23f57638e46e055700</td>\n",
       "      <td>After boxer Joe Palooka bests South American f...</td>\n",
       "      <td>Joe Palooka kayos Cardona, but the latter prot...</td>\n",
       "    </tr>\n",
       "    <tr>\n",
       "      <th>1</th>\n",
       "      <td>45b391802075b9b7dabad6e7c9342850</td>\n",
       "      <td>The opening sequence is different from many ot...</td>\n",
       "      <td>Quagmire returns from a vacation in Florida , ...</td>\n",
       "    </tr>\n",
       "    <tr>\n",
       "      <th>2</th>\n",
       "      <td>d3d738675ef0b52f03ffee3440fcd2f9</td>\n",
       "      <td>The Masher played by Charlie Chaplin fights fo...</td>\n",
       "      <td>Charlie and a rival vie for the favors of thei...</td>\n",
       "    </tr>\n",
       "    <tr>\n",
       "      <th>3</th>\n",
       "      <td>699a09647d35739ecc1b0aa203e199cf</td>\n",
       "      <td>The Federation starship Enterprise is ordered ...</td>\n",
       "      <td>To Troi's dismay, her planet's delegate to the...</td>\n",
       "    </tr>\n",
       "    <tr>\n",
       "      <th>4</th>\n",
       "      <td>92dd585fbe6fb2da29f98eee29d2db9d</td>\n",
       "      <td>The town of Barrow, Alaska is preparing for it...</td>\n",
       "      <td>In Barrow, Alaska, seventy percent of the popu...</td>\n",
       "    </tr>\n",
       "    <tr>\n",
       "      <th>...</th>\n",
       "      <td>...</td>\n",
       "      <td>...</td>\n",
       "      <td>...</td>\n",
       "    </tr>\n",
       "    <tr>\n",
       "      <th>6116</th>\n",
       "      <td>e39568c4f47f08bfca7ba40b99992cc3</td>\n",
       "      <td>In Pottsboro , North Texas, Charlie finds hers...</td>\n",
       "      <td>Rachel awakens after three days unconsciousnes...</td>\n",
       "    </tr>\n",
       "    <tr>\n",
       "      <th>6117</th>\n",
       "      <td>894167d1e82aea9324c96bb0000044fe</td>\n",
       "      <td>A wife waits for her brawling sailor ex-husban...</td>\n",
       "      <td>A Wrestler and his ex-Wife (Noah Young and Fay...</td>\n",
       "    </tr>\n",
       "    <tr>\n",
       "      <th>6118</th>\n",
       "      <td>6ea99e87a13dbc5f4a71c0c074d87c08</td>\n",
       "      <td>A convention of white supremacists led by Russ...</td>\n",
       "      <td>Some of the hotel's guests who are part of a c...</td>\n",
       "    </tr>\n",
       "    <tr>\n",
       "      <th>6119</th>\n",
       "      <td>18ce218b68017bb0d616270e8d134ba0</td>\n",
       "      <td>1944 in the small town of Tigreville on the co...</td>\n",
       "      <td>With his dutiful but unimaginative wife Suzann...</td>\n",
       "    </tr>\n",
       "    <tr>\n",
       "      <th>6120</th>\n",
       "      <td>8b7ab3e5f33eb2f40f3ad9b3d9cca152</td>\n",
       "      <td>Hank Hill , his wife, Peggy , and son, Bobby ,...</td>\n",
       "      <td>Hank Hill is a proud and true American. He lov...</td>\n",
       "    </tr>\n",
       "  </tbody>\n",
       "</table>\n",
       "<p>6079 rows × 3 columns</p>\n",
       "</div>"
      ],
      "text/plain": [
       "                                    id  \\\n",
       "0     195e3a541827dc23f57638e46e055700   \n",
       "1     45b391802075b9b7dabad6e7c9342850   \n",
       "2     d3d738675ef0b52f03ffee3440fcd2f9   \n",
       "3     699a09647d35739ecc1b0aa203e199cf   \n",
       "4     92dd585fbe6fb2da29f98eee29d2db9d   \n",
       "...                                ...   \n",
       "6116  e39568c4f47f08bfca7ba40b99992cc3   \n",
       "6117  894167d1e82aea9324c96bb0000044fe   \n",
       "6118  6ea99e87a13dbc5f4a71c0c074d87c08   \n",
       "6119  18ce218b68017bb0d616270e8d134ba0   \n",
       "6120  8b7ab3e5f33eb2f40f3ad9b3d9cca152   \n",
       "\n",
       "                                               document  \\\n",
       "0     After boxer Joe Palooka bests South American f...   \n",
       "1     The opening sequence is different from many ot...   \n",
       "2     The Masher played by Charlie Chaplin fights fo...   \n",
       "3     The Federation starship Enterprise is ordered ...   \n",
       "4     The town of Barrow, Alaska is preparing for it...   \n",
       "...                                                 ...   \n",
       "6116  In Pottsboro , North Texas, Charlie finds hers...   \n",
       "6117  A wife waits for her brawling sailor ex-husban...   \n",
       "6118  A convention of white supremacists led by Russ...   \n",
       "6119  1944 in the small town of Tigreville on the co...   \n",
       "6120  Hank Hill , his wife, Peggy , and son, Bobby ,...   \n",
       "\n",
       "                                                summary  \n",
       "0     Joe Palooka kayos Cardona, but the latter prot...  \n",
       "1     Quagmire returns from a vacation in Florida , ...  \n",
       "2     Charlie and a rival vie for the favors of thei...  \n",
       "3     To Troi's dismay, her planet's delegate to the...  \n",
       "4     In Barrow, Alaska, seventy percent of the popu...  \n",
       "...                                                 ...  \n",
       "6116  Rachel awakens after three days unconsciousnes...  \n",
       "6117  A Wrestler and his ex-Wife (Noah Young and Fay...  \n",
       "6118  Some of the hotel's guests who are part of a c...  \n",
       "6119  With his dutiful but unimaginative wife Suzann...  \n",
       "6120  Hank Hill is a proud and true American. He lov...  \n",
       "\n",
       "[6079 rows x 3 columns]"
      ]
     },
     "execution_count": 409,
     "metadata": {},
     "output_type": "execute_result"
    }
   ],
   "source": [
    "DS1"
   ]
  },
  {
   "cell_type": "code",
   "execution_count": 410,
   "id": "28f98eee",
   "metadata": {},
   "outputs": [],
   "source": [
    "with open('/Users/clementgillet/Desktop/test.json', 'w') as f:\n",
    "    f.write(DS1.to_json(orient='records', lines=True))"
   ]
  },
  {
   "cell_type": "markdown",
   "id": "070fab42",
   "metadata": {},
   "source": [
    "# 4.  COREFERENCE, TEMPORAL (GS4)\n",
    "Ablate subevent, causal from initial signal"
   ]
  },
  {
   "cell_type": "code",
   "execution_count": 12,
   "id": "64d7d52c",
   "metadata": {},
   "outputs": [],
   "source": [
    "file_path= \"/Users/clementgillet/Desktop/4SUBMISSION/Guidance_Signal/GS5_guid/validation.json\"\n",
    "GS = pd.read_json(path_or_buf=file_path, lines=True)"
   ]
  },
  {
   "cell_type": "code",
   "execution_count": 13,
   "id": "a42cf5a8",
   "metadata": {},
   "outputs": [
    {
     "data": {
      "text/html": [
       "<div>\n",
       "<style scoped>\n",
       "    .dataframe tbody tr th:only-of-type {\n",
       "        vertical-align: middle;\n",
       "    }\n",
       "\n",
       "    .dataframe tbody tr th {\n",
       "        vertical-align: top;\n",
       "    }\n",
       "\n",
       "    .dataframe thead th {\n",
       "        text-align: right;\n",
       "    }\n",
       "</style>\n",
       "<table border=\"1\" class=\"dataframe\">\n",
       "  <thead>\n",
       "    <tr style=\"text-align: right;\">\n",
       "      <th></th>\n",
       "      <th>id</th>\n",
       "      <th>document</th>\n",
       "      <th>summary</th>\n",
       "    </tr>\n",
       "  </thead>\n",
       "  <tbody>\n",
       "    <tr>\n",
       "      <th>0</th>\n",
       "      <td>1ec7843deddb3947133d9f96880bd198</td>\n",
       "      <td>plan and plan REFER to the same event wedding ...</td>\n",
       "      <td></td>\n",
       "    </tr>\n",
       "    <tr>\n",
       "      <th>1</th>\n",
       "      <td>739cafa77a0a4e6117577a6aab86c775</td>\n",
       "      <td>Business and party and party and party REFER t...</td>\n",
       "      <td></td>\n",
       "    </tr>\n",
       "    <tr>\n",
       "      <th>2</th>\n",
       "      <td>c0dbea44a72daf8b4ae90faafb3525ae</td>\n",
       "      <td>murder and death and murder and death REFER to...</td>\n",
       "      <td></td>\n",
       "    </tr>\n",
       "    <tr>\n",
       "      <th>3</th>\n",
       "      <td>b86ab81bdef9f9b57205164b3cf52185</td>\n",
       "      <td>taken and took REFER to the same event commit ...</td>\n",
       "      <td></td>\n",
       "    </tr>\n",
       "    <tr>\n",
       "      <th>4</th>\n",
       "      <td>56ade5296ae36d362a76626af72e2b7e</td>\n",
       "      <td>meeting and meeting and meeting REFER to the s...</td>\n",
       "      <td></td>\n",
       "    </tr>\n",
       "    <tr>\n",
       "      <th>...</th>\n",
       "      <td>...</td>\n",
       "      <td>...</td>\n",
       "      <td>...</td>\n",
       "    </tr>\n",
       "    <tr>\n",
       "      <th>2396</th>\n",
       "      <td>f91485f6cac7c3f237ba5c3a4cbfd433</td>\n",
       "      <td>insists and insists REFER to the same event</td>\n",
       "      <td></td>\n",
       "    </tr>\n",
       "    <tr>\n",
       "      <th>2397</th>\n",
       "      <td>af608759f7fee0826e7e420b4230be0e</td>\n",
       "      <td>party and party REFER to the same event kills ...</td>\n",
       "      <td></td>\n",
       "    </tr>\n",
       "    <tr>\n",
       "      <th>2398</th>\n",
       "      <td>4165b907ebfebca22892604c5304a54f</td>\n",
       "      <td>swapped and swap REFER to the same event</td>\n",
       "      <td></td>\n",
       "    </tr>\n",
       "    <tr>\n",
       "      <th>2399</th>\n",
       "      <td>d6484b2ea65ace5617223add1d0b2bf7</td>\n",
       "      <td>party and party REFER to the same event compet...</td>\n",
       "      <td></td>\n",
       "    </tr>\n",
       "    <tr>\n",
       "      <th>2400</th>\n",
       "      <td>e19c3cc4cc38f63f4be4dc6c19f72352</td>\n",
       "      <td>plan and plan REFER to the same event</td>\n",
       "      <td></td>\n",
       "    </tr>\n",
       "  </tbody>\n",
       "</table>\n",
       "<p>2401 rows × 3 columns</p>\n",
       "</div>"
      ],
      "text/plain": [
       "                                    id  \\\n",
       "0     1ec7843deddb3947133d9f96880bd198   \n",
       "1     739cafa77a0a4e6117577a6aab86c775   \n",
       "2     c0dbea44a72daf8b4ae90faafb3525ae   \n",
       "3     b86ab81bdef9f9b57205164b3cf52185   \n",
       "4     56ade5296ae36d362a76626af72e2b7e   \n",
       "...                                ...   \n",
       "2396  f91485f6cac7c3f237ba5c3a4cbfd433   \n",
       "2397  af608759f7fee0826e7e420b4230be0e   \n",
       "2398  4165b907ebfebca22892604c5304a54f   \n",
       "2399  d6484b2ea65ace5617223add1d0b2bf7   \n",
       "2400  e19c3cc4cc38f63f4be4dc6c19f72352   \n",
       "\n",
       "                                               document summary  \n",
       "0     plan and plan REFER to the same event wedding ...          \n",
       "1     Business and party and party and party REFER t...          \n",
       "2     murder and death and murder and death REFER to...          \n",
       "3     taken and took REFER to the same event commit ...          \n",
       "4     meeting and meeting and meeting REFER to the s...          \n",
       "...                                                 ...     ...  \n",
       "2396       insists and insists REFER to the same event           \n",
       "2397  party and party REFER to the same event kills ...          \n",
       "2398          swapped and swap REFER to the same event           \n",
       "2399  party and party REFER to the same event compet...          \n",
       "2400             plan and plan REFER to the same event           \n",
       "\n",
       "[2401 rows x 3 columns]"
      ]
     },
     "execution_count": 13,
     "metadata": {},
     "output_type": "execute_result"
    }
   ],
   "source": [
    "GS"
   ]
  },
  {
   "cell_type": "code",
   "execution_count": 7,
   "id": "7cedbcfb",
   "metadata": {},
   "outputs": [],
   "source": [
    "with open('/Users/clementgillet/Desktop/4SUBMISSION/Guidance_Signal/GS5_guid/test.json', 'w') as f:\n",
    "    f.write(GS.to_json(orient='records', lines=True))"
   ]
  },
  {
   "cell_type": "markdown",
   "id": "80aa4049",
   "metadata": {},
   "source": [
    "# 5.  COREFERENCE (GS5)\n",
    "Ablate subevent, causal and temporal from initial signal"
   ]
  },
  {
   "cell_type": "code",
   "execution_count": null,
   "id": "81c00f26",
   "metadata": {},
   "outputs": [],
   "source": []
  }
 ],
 "metadata": {
  "kernelspec": {
   "display_name": "Python 3 (ipykernel)",
   "language": "python",
   "name": "python3"
  },
  "language_info": {
   "codemirror_mode": {
    "name": "ipython",
    "version": 3
   },
   "file_extension": ".py",
   "mimetype": "text/x-python",
   "name": "python",
   "nbconvert_exporter": "python",
   "pygments_lexer": "ipython3",
   "version": "3.9.18"
  }
 },
 "nbformat": 4,
 "nbformat_minor": 5
}
